{
 "cells": [
  {
   "cell_type": "markdown",
   "metadata": {},
   "source": [
    "# Tipos de Tabelas:\n",
    "## Pipeline de importação de dados para o Fabric, utilizando o método saveAsTable."
   ]
  },
  {
   "cell_type": "code",
   "execution_count": 2,
   "metadata": {},
   "outputs": [
    {
     "name": "stdout",
     "output_type": "stream",
     "text": [
      "+----+---------+--------------------+------------+-----------+--------------+\n",
      "|IDSK|IDPRODUTO|                NOME|ID_CATEGORIA|CUSTO_MEDIO|VALOR_UNITARIO|\n",
      "+----+---------+--------------------+------------+-----------+--------------+\n",
      "|   1|        1|Cavaleiro Dos 7 R...|           1|      15.00|         30.00|\n",
      "|   2|        2|       Jogos Vorazes|           1|      22.00|         45.00|\n",
      "|   3|        3|           Revelados|           1|      24.00|         48.00|\n",
      "|   4|        4|A Culpa É Das Est...|           1|      12.00|         24.00|\n",
      "|   5|        5|     Um Caso Perdido|           1|      20.00|         56.00|\n",
      "|   6|        6|Windows 2016 Visa...|           1|      45.00|         90.00|\n",
      "|   7|        7|       Exchange 2014|           1|      90.00|        130.00|\n",
      "|   8|        8|          C# Pratico|           1|      45.00|         60.00|\n",
      "|   9|        9|     Sql Server 2016|           1|      15.00|         30.00|\n",
      "|  10|       10|         Tsql Tuning|           1|      75.00|         90.00|\n",
      "|  11|       11|      Advanced Azure|           1|      55.00|         70.00|\n",
      "|  12|       12|As Crônicas De An...|           1|      30.00|         69.00|\n",
      "|  13|       13|    Cronicas Antigas|           1|      60.00|        189.00|\n",
      "|  14|       14|   O Senhor Do Crime|           1|     120.00|        199.00|\n",
      "|  15|       15|      Barco De Pedra|           1|      20.00|         37.00|\n",
      "|  16|       16|            O Patrão|           2|      50.00|         78.00|\n",
      "|  17|       17|              A Casa|           2|     140.00|        299.00|\n",
      "|  18|       18|            A Teoria|           2|     130.00|        198.00|\n",
      "|  19|       19|    Diário Romântico|           2|     100.00|        176.00|\n",
      "|  20|       20|         Dinossauros|           2|      18.00|         40.00|\n",
      "+----+---------+--------------------+------------+-----------+--------------+\n",
      "only showing top 20 rows\n",
      "\n"
     ]
    }
   ],
   "source": [
    "## Lendo de um arquivo CSV\n",
    "\n",
    "# Lendo o arquivo CSV\n",
    "df01 = spark.read.format(\"csv\").option(\"header\", \"true\").load(\"C:/Github/Microsoft-Fabric_Data-Engineering/Data Engineering 🔧/Datasets_Demo/Produto.csv\")\n",
    "\n",
    "# Mostrando os dados carregados\n",
    "df01.show()"
   ]
  }
 ],
 "metadata": {
  "kernelspec": {
   "display_name": "Python 3",
   "language": "python",
   "name": "python3"
  },
  "language_info": {
   "codemirror_mode": {
    "name": "ipython",
    "version": 3
   },
   "file_extension": ".py",
   "mimetype": "text/x-python",
   "name": "python",
   "nbconvert_exporter": "python",
   "pygments_lexer": "ipython3",
   "version": "3.13.1"
  }
 },
 "nbformat": 4,
 "nbformat_minor": 2
}
